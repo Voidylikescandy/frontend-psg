{
 "cells": [
  {
   "cell_type": "markdown",
   "metadata": {},
   "source": [
    "# Automated Backend Deployment with Ngrok\n",
    "\n",
    "This notebook deploys the backend service on port 5000 using ngrok in Google Colab.\n",
    "\n",
    "It handles:\n",
    "1. Cloning the repository\n",
    "2. Installing dependencies\n",
    "3. Setting up ngrok tunnel\n",
    "4. Starting the backend server\n",
    "5. Monitoring and managing processes"
   ]
  },
  {
   "cell_type": "markdown",
   "metadata": {},
   "source": [
    "## Setup Environment"
   ]
  },
  {
   "cell_type": "code",
   "execution_count": null,
   "metadata": {},
   "source": [
    "# Install ngrok\n",
    "!pip install pyngrok\n",
    "!pip install psutil\n",
    "\n",
    "# Import necessary libraries\n",
    "import os\n",
    "import subprocess\n",
    "import time\n",
    "import signal\n",
    "import psutil\n",
    "from pyngrok import ngrok, conf\n",
    "import json\n",
    "import requests\n",
    "from IPython.display import clear_output, display, HTML\n",
    "from google.colab import files\n",
    "import sys"
   ]
  },
  {
   "cell_type": "markdown",
   "metadata": {},
   "source": [
    "## Clone Repository"
   ]
  },
  {
   "cell_type": "code",
   "execution_count": null,
   "metadata": {},
   "source": [
    "# Clone your repository (update with your actual repository URL)\n",
    "REPO_URL = \"https://github.com/yourusername/your-repo.git\"  # CHANGE THIS TO YOUR REPO URL\n",
    "\n",
    "# Check if the repository is already cloned\n",
    "if not os.path.exists('frontend-psg'):\n",
    "    !git clone $REPO_URL frontend-psg\n",
    "\n",
    "# Change to the repository directory\n",
    "%cd frontend-psg"
   ]
  },
  {
   "cell_type": "markdown",
   "metadata": {},
   "source": [
    "## Install Dependencies"
   ]
  },
  {
   "cell_type": "code",
   "execution_count": null,
   "metadata": {},
   "source": [
    "# Install Python dependencies\n",
    "!pip install -r requirements.txt"
   ]
  },
  {
   "cell_type": "markdown",
   "metadata": {},
   "source": [
    "## Process Management Functions"
   ]
  },
  {
   "cell_type": "code",
   "execution_count": null,
   "metadata": {},
   "source": [
    "# Dictionary to store all processes\n",
    "processes = {}\n",
    "\n",
    "def get_process_info():\n",
    "    \"\"\"Get information about running processes\"\"\"\n",
    "    process_info = []\n",
    "    for name, proc in processes.items():\n",
    "        if isinstance(proc, subprocess.Popen):\n",
    "            try:\n",
    "                p = psutil.Process(proc.pid)\n",
    "                status = \"Running\" if p.is_running() else \"Stopped\"\n",
    "                process_info.append({\"name\": name, \"pid\": proc.pid, \"status\": status})\n",
    "            except (psutil.NoSuchProcess, psutil.AccessDenied):\n",
    "                process_info.append({\"name\": name, \"pid\": proc.pid, \"status\": \"Terminated\"})\n",
    "    return process_info\n",
    "\n",
    "def kill_process(proc_name):\n",
    "    \"\"\"Kill a specific process by name\"\"\"\n",
    "    if proc_name in processes:\n",
    "        proc = processes[proc_name]\n",
    "        if isinstance(proc, subprocess.Popen):\n",
    "            try:\n",
    "                # Try to terminate gracefully first\n",
    "                parent = psutil.Process(proc.pid)\n",
    "                for child in parent.children(recursive=True):\n",
    "                    child.terminate()\n",
    "                parent.terminate()\n",
    "                \n",
    "                # Give it some time to terminate\n",
    "                time.sleep(2)\n",
    "                \n",
    "                # Force kill if still running\n",
    "                if parent.is_running():\n",
    "                    for child in parent.children(recursive=True):\n",
    "                        child.kill()\n",
    "                    parent.kill()\n",
    "                    \n",
    "                print(f\"Process '{proc_name}' (PID: {proc.pid}) has been killed.\")\n",
    "            except (psutil.NoSuchProcess, psutil.AccessDenied):\n",
    "                print(f\"Process '{proc_name}' was already terminated.\")\n",
    "            \n",
    "            # Remove from our processes dictionary\n",
    "            del processes[proc_name]\n",
    "            return True\n",
    "    print(f\"Process '{proc_name}' not found.\")\n",
    "    return False\n",
    "\n",
    "def kill_all_processes():\n",
    "    \"\"\"Kill all tracked processes\"\"\"\n",
    "    process_names = list(processes.keys())\n",
    "    for proc_name in process_names:\n",
    "        kill_process(proc_name)\n",
    "    \n",
    "    # Also kill any ngrok processes that might be running\n",
    "    try:\n",
    "        ngrok.kill()\n",
    "    except:\n",
    "        pass\n",
    "        \n",
    "    print(\"All processes have been terminated.\")"
   ]
  },
  {
   "cell_type": "markdown",
   "metadata": {},
   "source": [
    "## Ngrok Tunnel Functions"
   ]
  },
  {
   "cell_type": "code",
   "execution_count": null,
   "metadata": {},
   "source": [
    "def create_ngrok_tunnel(port=5000, authtoken=None):\n",
    "    \"\"\"Create an ngrok tunnel to the specified local port\"\"\"\n",
    "    try:\n",
    "        # If an authtoken is provided, set it\n",
    "        if authtoken:\n",
    "            conf.get_default().auth_token = authtoken\n",
    "        \n",
    "        # Kill any existing ngrok processes\n",
    "        ngrok.kill()\n",
    "        \n",
    "        # Start a new tunnel - allowing all traffic (tcp and http)\n",
    "        http_tunnel = ngrok.connect(port, \"http\")\n",
    "        tcp_tunnel = ngrok.connect(port, \"tcp\")\n",
    "        \n",
    "        # Get tunnel URLs\n",
    "        http_url = http_tunnel.public_url\n",
    "        tcp_url = tcp_tunnel.public_url\n",
    "        \n",
    "        # Store tunnel info in a file\n",
    "        tunnel_info = {\n",
    "            \"http_url\": http_url,\n",
    "            \"tcp_url\": tcp_url,\n",
    "            \"local_port\": port\n",
    "        }\n",
    "        \n",
    "        with open('ngrok_tunnel_info.json', 'w') as f:\n",
    "            json.dump(tunnel_info, f, indent=2)\n",
    "        \n",
    "        return http_url, tcp_url\n",
    "    except Exception as e:\n",
    "        print(f\"Error creating ngrok tunnel: {str(e)}\")\n",
    "        return None, None\n",
    "\n",
    "def get_tunnel_info():\n",
    "    \"\"\"Get information about all active ngrok tunnels\"\"\"\n",
    "    try:\n",
    "        tunnels = ngrok.get_tunnels()\n",
    "        return [{\"public_url\": tunnel.public_url, \"proto\": tunnel.proto} for tunnel in tunnels]\n",
    "    except Exception as e:\n",
    "        print(f\"Error getting tunnel info: {str(e)}\")\n",
    "        return []"
   ]
  },
  {
   "cell_type": "markdown",
   "metadata": {},
   "source": [
    "## Start Backend Server"
   ]
  },
  {
   "cell_type": "code",
   "execution_count": null,
   "metadata": {},
   "source": [
    "def start_backend_server():\n",
    "    \"\"\"Start the Flask backend server\"\"\"\n",
    "    try:\n",
    "        # Check if process is already running\n",
    "        if \"backend\" in processes:\n",
    "            print(\"Backend is already running.\")\n",
    "            return False\n",
    "        \n",
    "        # Start the backend as a subprocess\n",
    "        print(\"Starting the backend server...\")\n",
    "        backend_proc = subprocess.Popen([sys.executable, \"app.py\"], \n",
    "                                        stdout=subprocess.PIPE,\n",
    "                                        stderr=subprocess.PIPE,\n",
    "                                        text=True)\n",
    "        \n",
    "        # Store the process\n",
    "        processes[\"backend\"] = backend_proc\n",
    "        \n",
    "        # Wait briefly for server to start\n",
    "        time.sleep(3)\n",
    "        \n",
    "        # Check if process is still running\n",
    "        if backend_proc.poll() is not None:\n",
    "            # Process has already terminated\n",
    "            stdout, stderr = backend_proc.communicate()\n",
    "            print(f\"Backend server failed to start:\\nStdout: {stdout}\\nStderr: {stderr}\")\n",
    "            return False\n",
    "        \n",
    "        print(f\"Backend server started with PID: {backend_proc.pid}\")\n",
    "        return True\n",
    "    except Exception as e:\n",
    "        print(f\"Error starting backend server: {str(e)}\")\n",
    "        return False"
   ]
  },
  {
   "cell_type": "markdown",
   "metadata": {},
   "source": [
    "## Deploy Backend with Ngrok"
   ]
  },
  {
   "cell_type": "code",
   "execution_count": null,
   "metadata": {},
   "source": [
    "def deploy_backend_with_ngrok(ngrok_authtoken=None):\n",
    "    \"\"\"Deploy the backend and expose it through ngrok\"\"\"\n",
    "    try:\n",
    "        # Start the backend server\n",
    "        if not start_backend_server():\n",
    "            return False\n",
    "        \n",
    "        # Create ngrok tunnel\n",
    "        http_url, tcp_url = create_ngrok_tunnel(port=5000, authtoken=ngrok_authtoken)\n",
    "        \n",
    "        if not http_url or not tcp_url:\n",
    "            print(\"Failed to create ngrok tunnels.\")\n",
    "            kill_process(\"backend\")\n",
    "            return False\n",
    "        \n",
    "        print(f\"\\nBackend is now accessible at:\\n\")\n",
    "        print(f\"HTTP: {http_url}\")\n",
    "        print(f\"TCP: {tcp_url}\")\n",
    "        print(f\"\\nYour backend API is available at: {http_url}/api/generate-speech\")\n",
    "        \n",
    "        # Display a clickable link\n",
    "        display(HTML(f'<a href=\"{http_url}\" target=\"_blank\">Open Backend (HTTP)</a>'))\n",
    "        \n",
    "        return True\n",
    "    except Exception as e:\n",
    "        print(f\"Error deploying backend: {str(e)}\")\n",
    "        # Cleanup in case of failure\n",
    "        kill_all_processes()\n",
    "        return False"
   ]
  },
  {
   "cell_type": "markdown",
   "metadata": {},
   "source": [
    "## Status Monitoring"
   ]
  },
  {
   "cell_type": "code",
   "execution_count": null,
   "metadata": {},
   "source": [
    "def show_deployment_status():\n",
    "    \"\"\"Display the current status of all processes and tunnels\"\"\"\n",
    "    clear_output(wait=True)\n",
    "    \n",
    "    print(\"===== DEPLOYMENT STATUS =====\\n\")\n",
    "    \n",
    "    # Show process status\n",
    "    proc_info = get_process_info()\n",
    "    if proc_info:\n",
    "        print(\"Running Processes:\")\n",
    "        for proc in proc_info:\n",
    "            print(f\"  - {proc['name']} (PID: {proc['pid']}, Status: {proc['status']})\")\n",
    "    else:\n",
    "        print(\"No processes are currently running.\")\n",
    "    \n",
    "    print(\"\\n\")\n",
    "    \n",
    "    # Show tunnel status\n",
    "    tunnels = get_tunnel_info()\n",
    "    if tunnels:\n",
    "        print(\"Active Tunnels:\")\n",
    "        for tunnel in tunnels:\n",
    "            print(f\"  - {tunnel['proto']}: {tunnel['public_url']}\")\n",
    "            if tunnel['proto'] == 'http':\n",
    "                display(HTML(f'<a href=\"{tunnel[\"public_url\"]}\" target=\"_blank\">Open Link</a>'))\n",
    "    else:\n",
    "        print(\"No active tunnels found.\")\n",
    "        \n",
    "    # Backend API endpoint if running\n",
    "    if \"backend\" in processes and any(t['proto'] == 'http' for t in tunnels):\n",
    "        http_url = next((t['public_url'] for t in tunnels if t['proto'] == 'http'), None)\n",
    "        if http_url:\n",
    "            print(f\"\\nBackend API endpoint: {http_url}/api/generate-speech\")\n",
    "    \n",
    "    return proc_info, tunnels"
   ]
  },
  {
   "cell_type": "markdown",
   "metadata": {},
   "source": [
    "## Deployment Controls"
   ]
  },
  {
   "cell_type": "code",
   "execution_count": null,
   "metadata": {},
   "source": [
    "# Deploy backend with ngrok\n",
    "# You can provide your ngrok authtoken for higher rate limits and longer session duration\n",
    "# If you don't have one, you can sign up at https://dashboard.ngrok.com/signup\n",
    "\n",
    "NGROK_AUTHTOKEN = \"\"  # Optional: Add your ngrok authtoken here or leave empty\n",
    "\n",
    "deploy_backend_with_ngrok(ngrok_authtoken=NGROK_AUTHTOKEN)"
   ]
  },
  {
   "cell_type": "code",
   "execution_count": null,
   "metadata": {},
   "source": [
    "# Check deployment status\n",
    "show_deployment_status()"
   ]
  },
  {
   "cell_type": "code",
   "execution_count": null,
   "metadata": {},
   "source": [
    "# Stop deployment\n",
    "kill_all_processes()"
   ]
  },
  {
   "cell_type": "markdown",
   "metadata": {},
   "source": [
    "## Test API Endpoint\n",
    "\n",
    "Once your backend is deployed, you can test the API endpoint with the following:"
   ]
  },
  {
   "cell_type": "code",
   "execution_count": null,
   "metadata": {},
   "source": [
    "def test_api_endpoint():\n",
    "    \"\"\"Test the API endpoint with a sample request\"\"\"\n",
    "    # Get tunnel info\n",
    "    tunnels = get_tunnel_info()\n",
    "    http_url = next((t['public_url'] for t in tunnels if t['proto'] == 'http'), None)\n",
    "    \n",
    "    if not http_url:\n",
    "        print(\"No HTTP tunnel found. Please deploy the backend first.\")\n",
    "        return\n",
    "    \n",
    "    # Sample request data - update based on your API requirements\n",
    "    test_data = {\n",
    "        \"prompt\": \"This is a test message\"\n",
    "    }\n",
    "    \n",
    "    # Send test request\n",
    "    try:\n",
    "        endpoint = f\"{http_url}/api/generate-speech\"\n",
    "        print(f\"Sending test request to: {endpoint}\")\n",
    "        response = requests.post(\n",
    "            endpoint,\n",
    "            json=test_data,\n",
    "            headers={\"Content-Type\": \"application/json\"}\n",
    "        )\n",
    "        \n",
    "        # Print response\n",
    "        print(f\"Status code: {response.status_code}\")\n",
    "        print(f\"Response:\\n{json.dumps(response.json(), indent=2)}\")\n",
    "        \n",
    "        return response.json()\n",
    "    except Exception as e:\n",
    "        print(f\"Error testing API: {str(e)}\")\n",
    "        return None"
   ]
  },
  {
   "cell_type": "code",
   "execution_count": null,
   "metadata": {},
   "source": [
    "# Test the API endpoint\n",
    "# test_api_endpoint()"
   ]
  },
  {
   "cell_type": "markdown",
   "metadata": {},
   "source": [
    "## Cleanup on Notebook Shutdown"
   ]
  },
  {
   "cell_type": "code",
   "execution_count": null,
   "metadata": {},
   "source": [
    "# Make sure to run this cell when you're done to clean up resources\n",
    "# kill_all_processes()"
   ]
  }
 ],
 "metadata": {
  "colab": {
   "name": "Backend Deployment with Ngrok",
   "provenance": []
  },
  "kernelspec": {
   "display_name": "Python 3",
   "language": "python",
   "name": "python3"
  },
  "language_info": {
   "codemirror_mode": {
    "name": "ipython",
    "version": 3
   },
   "file_extension": ".py",
   "mimetype": "text/x-python",
   "name": "python",
   "nbconvert_exporter": "python",
   "pygments_lexer": "ipython3",
   "version": "3.9.7"
  }
 },
 "nbformat": 4,
 "nbformat_minor": 4
}
